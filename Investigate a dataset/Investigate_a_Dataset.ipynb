{
 "cells": [
  {
   "cell_type": "markdown",
   "metadata": {},
   "source": [
    "\n",
    "# Project: Investigating a Movie Dataset:\n",
    "## Table of Contents\n",
    "<ul>\n",
    "<li><a href=\"#intro\">Introduction</a></li>\n",
    "<li><a href=\"#wrangling\">Data Wrangling</a></li>\n",
    "<li><a href=\"#eda\">Exploratory Data Analysis</a></li>\n",
    "<li><a href=\"#conclusions\">Conclusions</a></li>\n",
    "</ul>"
   ]
  },
  {
   "cell_type": "markdown",
   "metadata": {},
   "source": [
    "<a id='intro'></a>\n",
    "## Introduction\n",
    "\n",
    "\n",
    "\n",
    "> In this notebook we will be exploring a data set that contains information about 10,000 movies collected from\n",
    "The Movie Database (TMDb).\n",
    "Through our investigation we will try to find answers to these questions: \n",
    "- Is there a correlation between a movie popularity and its budget?\n",
    "- Which genres are most popular from year to year?\n",
    "- What kinds of properties are associated with movies that have high revenues? \n",
    "\n",
    "But first we will import the important libraties we will be using through our analysis. and them load the movie data set into our notebook. Let's get started. \n"
   ]
  },
  {
   "cell_type": "code",
   "execution_count": 1,
   "metadata": {},
   "outputs": [],
   "source": [
    "# Importing packages will be using\n",
    "from datetime import datetime \n",
    "import numpy as np\n",
    "import pandas as pd\n",
    "import matplotlib.pyplot as plt\n",
    "#using this to ensure our plots inside our notebook\n",
    "%matplotlib inline \n",
    "\n"
   ]
  },
  {
   "cell_type": "markdown",
   "metadata": {},
   "source": [
    "<a id='wrangling'></a>\n",
    "## Data Wrangling\n",
    "\n",
    "> First we start by loading our data, then we clean the data to ensure it is in great quality before we start our analysis. Main things we take into consideration here is to check the data types, checking the null values and deciding how to deal with them, looking for duplicates and removing them. Keep in mind to remove any other peculiarties that may be specific to this data set as well before the explatory step."
   ]
  },
  {
   "cell_type": "code",
   "execution_count": 2,
   "metadata": {},
   "outputs": [
    {
     "name": "stdout",
     "output_type": "stream",
     "text": [
      "(10866, 21)\n"
     ]
    }
   ],
   "source": [
    "# Load your data and print out a few lines. Perform operations to inspect data\n",
    "df_mov_orig= pd.read_csv(\"tmdb-movies.csv\")\n",
    "df_mov_orig.head(1)\n",
    "print(df_mov_orig.shape)"
   ]
  },
  {
   "cell_type": "code",
   "execution_count": 3,
   "metadata": {},
   "outputs": [
    {
     "data": {
      "text/plain": [
       "Index(['id', 'imdb_id', 'popularity', 'budget', 'revenue', 'original_title',\n",
       "       'cast', 'homepage', 'director', 'tagline', 'keywords', 'overview',\n",
       "       'runtime', 'genres', 'production_companies', 'release_date',\n",
       "       'vote_count', 'vote_average', 'release_year', 'budget_adj',\n",
       "       'revenue_adj'],\n",
       "      dtype='object')"
      ]
     },
     "execution_count": 3,
     "metadata": {},
     "output_type": "execute_result"
    }
   ],
   "source": [
    "df_mov_orig.columns"
   ]
  },
  {
   "cell_type": "markdown",
   "metadata": {},
   "source": [
    "### Data Cleaning"
   ]
  },
  {
   "cell_type": "markdown",
   "metadata": {},
   "source": [
    "In the next part we will try to check the different data types ensuring and look for null values."
   ]
  },
  {
   "cell_type": "code",
   "execution_count": 4,
   "metadata": {},
   "outputs": [
    {
     "data": {
      "text/plain": [
       "id                        int64\n",
       "imdb_id                  object\n",
       "popularity              float64\n",
       "budget                    int64\n",
       "revenue                   int64\n",
       "original_title           object\n",
       "cast                     object\n",
       "homepage                 object\n",
       "director                 object\n",
       "tagline                  object\n",
       "keywords                 object\n",
       "overview                 object\n",
       "runtime                   int64\n",
       "genres                   object\n",
       "production_companies     object\n",
       "release_date             object\n",
       "vote_count                int64\n",
       "vote_average            float64\n",
       "release_year              int64\n",
       "budget_adj              float64\n",
       "revenue_adj             float64\n",
       "dtype: object"
      ]
     },
     "execution_count": 4,
     "metadata": {},
     "output_type": "execute_result"
    }
   ],
   "source": [
    "#Exploring Data types of each column:\n",
    "df_mov_orig.dtypes\n",
    "#df_mov.release_date[:5]"
   ]
  },
  {
   "cell_type": "code",
   "execution_count": 5,
   "metadata": {},
   "outputs": [
    {
     "data": {
      "text/plain": [
       "10861    1966\n",
       "10862    1966\n",
       "10863    1966\n",
       "10864    1966\n",
       "10865    1966\n",
       "Name: release_year, dtype: int64"
      ]
     },
     "execution_count": 5,
     "metadata": {},
     "output_type": "execute_result"
    }
   ],
   "source": [
    "#df_mov[df_mov.popularity== df_mov.popularity.min()]\n",
    "\n",
    "df_mov_orig.release_year.tail()"
   ]
  },
  {
   "cell_type": "markdown",
   "metadata": {},
   "source": [
    "#### Examininig Duplicates"
   ]
  },
  {
   "cell_type": "markdown",
   "metadata": {},
   "source": [
    "Then we check to see the duplicates"
   ]
  },
  {
   "cell_type": "code",
   "execution_count": 6,
   "metadata": {},
   "outputs": [
    {
     "name": "stdout",
     "output_type": "stream",
     "text": [
      "Duplicates sum is:  1 \n",
      "\n",
      "The shape before removing the duplicates is:  (10866, 21)\n"
     ]
    }
   ],
   "source": [
    "print(\"Duplicates sum is: \", df_mov_orig.duplicated().sum(), \"\\n\")\n",
    "print(\"The shape before removing the duplicates is: \", df_mov_orig.shape)"
   ]
  },
  {
   "cell_type": "markdown",
   "metadata": {},
   "source": [
    "From above we notice there is a single a single duplicated in our data, so we will drop it then test again to confirm we have no more duplicates."
   ]
  },
  {
   "cell_type": "code",
   "execution_count": 7,
   "metadata": {},
   "outputs": [],
   "source": [
    "df_mov_v1= df_mov_orig.drop_duplicates()"
   ]
  },
  {
   "cell_type": "markdown",
   "metadata": {},
   "source": [
    "We test once again for duplicates to find there are no more and we notice that the number of row decreased by one since we remove the duplicate that was in our data."
   ]
  },
  {
   "cell_type": "code",
   "execution_count": 8,
   "metadata": {},
   "outputs": [
    {
     "name": "stdout",
     "output_type": "stream",
     "text": [
      "Duplicates sum is:  0 \n",
      "\n",
      "The shape before removing the duplicates is:  (10865, 21)\n"
     ]
    }
   ],
   "source": [
    "print(\"Duplicates sum is: \", df_mov_v1.duplicated().sum(), \"\\n\")\n",
    "print(\"The shape before removing the duplicates is: \", df_mov_v1.shape)"
   ]
  },
  {
   "cell_type": "markdown",
   "metadata": {},
   "source": [
    "#### Null Values Checking"
   ]
  },
  {
   "cell_type": "markdown",
   "metadata": {},
   "source": [
    "Then we start looking at the null values in order to decided what to do with them."
   ]
  },
  {
   "cell_type": "code",
   "execution_count": 9,
   "metadata": {},
   "outputs": [
    {
     "name": "stdout",
     "output_type": "stream",
     "text": [
      "(10865, 21) \n",
      "\n",
      "<class 'pandas.core.frame.DataFrame'>\n",
      "Int64Index: 10865 entries, 0 to 10865\n",
      "Data columns (total 21 columns):\n",
      "id                      10865 non-null int64\n",
      "imdb_id                 10855 non-null object\n",
      "popularity              10865 non-null float64\n",
      "budget                  10865 non-null int64\n",
      "revenue                 10865 non-null int64\n",
      "original_title          10865 non-null object\n",
      "cast                    10789 non-null object\n",
      "homepage                2936 non-null object\n",
      "director                10821 non-null object\n",
      "tagline                 8041 non-null object\n",
      "keywords                9372 non-null object\n",
      "overview                10861 non-null object\n",
      "runtime                 10865 non-null int64\n",
      "genres                  10842 non-null object\n",
      "production_companies    9835 non-null object\n",
      "release_date            10865 non-null object\n",
      "vote_count              10865 non-null int64\n",
      "vote_average            10865 non-null float64\n",
      "release_year            10865 non-null int64\n",
      "budget_adj              10865 non-null float64\n",
      "revenue_adj             10865 non-null float64\n",
      "dtypes: float64(4), int64(6), object(11)\n",
      "memory usage: 1.8+ MB\n"
     ]
    }
   ],
   "source": [
    "print(df_mov_v1.shape, \"\\n\")\n",
    "df_mov_v1.info()"
   ]
  },
  {
   "cell_type": "markdown",
   "metadata": {},
   "source": [
    "From the info above, now we know that the columns that contains null values are:\n",
    "- imdb_id\n",
    "- cast\n",
    "- homepage\n",
    "- director\n",
    "- tagline\n",
    "- keywords\n",
    "- overview\n",
    "- genres\n",
    "- production_companies\n",
    "\n",
    "Some of these columns has almost a siginificant amount of data about the movies production and may be important for further analysis so we will be keeping most of them even if we may not be using them to answer our current questions.\n",
    "One particular column won't be of much help at all since it is missing over 80% of the data in addition it only represents the webpage of each movie, so it does not signify much. So we will be dropping the homepage column."
   ]
  },
  {
   "cell_type": "code",
   "execution_count": 10,
   "metadata": {},
   "outputs": [
    {
     "data": {
      "text/plain": [
       "(10865, 20)"
      ]
     },
     "execution_count": 10,
     "metadata": {},
     "output_type": "execute_result"
    }
   ],
   "source": [
    "#dropping the \"homepage\" column from our data frame\n",
    "df_mov_v2= df_mov_v1.drop(columns= \"homepage\")\n",
    "df_mov_v2.shape"
   ]
  },
  {
   "cell_type": "code",
   "execution_count": 11,
   "metadata": {},
   "outputs": [],
   "source": [
    "df_mov_v3= df_mov_v2.dropna()"
   ]
  },
  {
   "cell_type": "markdown",
   "metadata": {},
   "source": [
    "For the non-numeric columns we will be dropping all the null entries before starting to work with our data.\n",
    "\n",
    "So we will be droping null values in the following columns: imdb_id, cast, director, tagline, keywords, overview, genres, production_companies"
   ]
  },
  {
   "cell_type": "code",
   "execution_count": 12,
   "metadata": {},
   "outputs": [
    {
     "name": "stdout",
     "output_type": "stream",
     "text": [
      "(7030, 20) \n",
      "\n",
      "<class 'pandas.core.frame.DataFrame'>\n",
      "Int64Index: 7030 entries, 0 to 10865\n",
      "Data columns (total 20 columns):\n",
      "id                      7030 non-null int64\n",
      "imdb_id                 7030 non-null object\n",
      "popularity              7030 non-null float64\n",
      "budget                  7030 non-null int64\n",
      "revenue                 7030 non-null int64\n",
      "original_title          7030 non-null object\n",
      "cast                    7030 non-null object\n",
      "director                7030 non-null object\n",
      "tagline                 7030 non-null object\n",
      "keywords                7030 non-null object\n",
      "overview                7030 non-null object\n",
      "runtime                 7030 non-null int64\n",
      "genres                  7030 non-null object\n",
      "production_companies    7030 non-null object\n",
      "release_date            7030 non-null object\n",
      "vote_count              7030 non-null int64\n",
      "vote_average            7030 non-null float64\n",
      "release_year            7030 non-null int64\n",
      "budget_adj              7030 non-null float64\n",
      "revenue_adj             7030 non-null float64\n",
      "dtypes: float64(4), int64(6), object(10)\n",
      "memory usage: 1.1+ MB\n"
     ]
    }
   ],
   "source": [
    "print(df_mov_v3.shape, \"\\n\")\n",
    "df_mov_v3.info()"
   ]
  },
  {
   "cell_type": "code",
   "execution_count": 13,
   "metadata": {},
   "outputs": [
    {
     "data": {
      "text/html": [
       "<div>\n",
       "<style scoped>\n",
       "    .dataframe tbody tr th:only-of-type {\n",
       "        vertical-align: middle;\n",
       "    }\n",
       "\n",
       "    .dataframe tbody tr th {\n",
       "        vertical-align: top;\n",
       "    }\n",
       "\n",
       "    .dataframe thead th {\n",
       "        text-align: right;\n",
       "    }\n",
       "</style>\n",
       "<table border=\"1\" class=\"dataframe\">\n",
       "  <thead>\n",
       "    <tr style=\"text-align: right;\">\n",
       "      <th></th>\n",
       "      <th>id</th>\n",
       "      <th>popularity</th>\n",
       "      <th>budget</th>\n",
       "      <th>revenue</th>\n",
       "      <th>runtime</th>\n",
       "      <th>vote_count</th>\n",
       "      <th>vote_average</th>\n",
       "      <th>release_year</th>\n",
       "      <th>budget_adj</th>\n",
       "      <th>revenue_adj</th>\n",
       "    </tr>\n",
       "  </thead>\n",
       "  <tbody>\n",
       "    <tr>\n",
       "      <th>count</th>\n",
       "      <td>7030.000000</td>\n",
       "      <td>7030.000000</td>\n",
       "      <td>7.030000e+03</td>\n",
       "      <td>7.030000e+03</td>\n",
       "      <td>7030.000000</td>\n",
       "      <td>7030.000000</td>\n",
       "      <td>7030.000000</td>\n",
       "      <td>7030.000000</td>\n",
       "      <td>7.030000e+03</td>\n",
       "      <td>7.030000e+03</td>\n",
       "    </tr>\n",
       "    <tr>\n",
       "      <th>mean</th>\n",
       "      <td>51923.701422</td>\n",
       "      <td>0.829578</td>\n",
       "      <td>2.084592e+07</td>\n",
       "      <td>5.933303e+07</td>\n",
       "      <td>104.849075</td>\n",
       "      <td>312.752205</td>\n",
       "      <td>6.013329</td>\n",
       "      <td>1999.380939</td>\n",
       "      <td>2.501234e+07</td>\n",
       "      <td>7.645232e+07</td>\n",
       "    </tr>\n",
       "    <tr>\n",
       "      <th>std</th>\n",
       "      <td>81410.657714</td>\n",
       "      <td>1.180330</td>\n",
       "      <td>3.602527e+07</td>\n",
       "      <td>1.404243e+08</td>\n",
       "      <td>23.794219</td>\n",
       "      <td>693.268737</td>\n",
       "      <td>0.876545</td>\n",
       "      <td>13.469048</td>\n",
       "      <td>3.953679e+07</td>\n",
       "      <td>1.730569e+08</td>\n",
       "    </tr>\n",
       "    <tr>\n",
       "      <th>min</th>\n",
       "      <td>5.000000</td>\n",
       "      <td>0.000188</td>\n",
       "      <td>0.000000e+00</td>\n",
       "      <td>0.000000e+00</td>\n",
       "      <td>0.000000</td>\n",
       "      <td>10.000000</td>\n",
       "      <td>1.500000</td>\n",
       "      <td>1960.000000</td>\n",
       "      <td>0.000000e+00</td>\n",
       "      <td>0.000000e+00</td>\n",
       "    </tr>\n",
       "    <tr>\n",
       "      <th>25%</th>\n",
       "      <td>9540.250000</td>\n",
       "      <td>0.278587</td>\n",
       "      <td>0.000000e+00</td>\n",
       "      <td>0.000000e+00</td>\n",
       "      <td>92.000000</td>\n",
       "      <td>24.000000</td>\n",
       "      <td>5.500000</td>\n",
       "      <td>1992.000000</td>\n",
       "      <td>0.000000e+00</td>\n",
       "      <td>0.000000e+00</td>\n",
       "    </tr>\n",
       "    <tr>\n",
       "      <th>50%</th>\n",
       "      <td>14738.500000</td>\n",
       "      <td>0.506241</td>\n",
       "      <td>5.000000e+06</td>\n",
       "      <td>4.859580e+06</td>\n",
       "      <td>101.000000</td>\n",
       "      <td>73.000000</td>\n",
       "      <td>6.100000</td>\n",
       "      <td>2003.000000</td>\n",
       "      <td>6.951084e+06</td>\n",
       "      <td>6.457481e+06</td>\n",
       "    </tr>\n",
       "    <tr>\n",
       "      <th>75%</th>\n",
       "      <td>46964.750000</td>\n",
       "      <td>0.956460</td>\n",
       "      <td>2.600000e+07</td>\n",
       "      <td>5.473358e+07</td>\n",
       "      <td>114.000000</td>\n",
       "      <td>263.000000</td>\n",
       "      <td>6.600000</td>\n",
       "      <td>2010.000000</td>\n",
       "      <td>3.463336e+07</td>\n",
       "      <td>7.528359e+07</td>\n",
       "    </tr>\n",
       "    <tr>\n",
       "      <th>max</th>\n",
       "      <td>417859.000000</td>\n",
       "      <td>32.985763</td>\n",
       "      <td>4.250000e+08</td>\n",
       "      <td>2.781506e+09</td>\n",
       "      <td>705.000000</td>\n",
       "      <td>9767.000000</td>\n",
       "      <td>8.400000</td>\n",
       "      <td>2015.000000</td>\n",
       "      <td>4.250000e+08</td>\n",
       "      <td>2.827124e+09</td>\n",
       "    </tr>\n",
       "  </tbody>\n",
       "</table>\n",
       "</div>"
      ],
      "text/plain": [
       "                  id   popularity        budget       revenue      runtime  \\\n",
       "count    7030.000000  7030.000000  7.030000e+03  7.030000e+03  7030.000000   \n",
       "mean    51923.701422     0.829578  2.084592e+07  5.933303e+07   104.849075   \n",
       "std     81410.657714     1.180330  3.602527e+07  1.404243e+08    23.794219   \n",
       "min         5.000000     0.000188  0.000000e+00  0.000000e+00     0.000000   \n",
       "25%      9540.250000     0.278587  0.000000e+00  0.000000e+00    92.000000   \n",
       "50%     14738.500000     0.506241  5.000000e+06  4.859580e+06   101.000000   \n",
       "75%     46964.750000     0.956460  2.600000e+07  5.473358e+07   114.000000   \n",
       "max    417859.000000    32.985763  4.250000e+08  2.781506e+09   705.000000   \n",
       "\n",
       "        vote_count  vote_average  release_year    budget_adj   revenue_adj  \n",
       "count  7030.000000   7030.000000   7030.000000  7.030000e+03  7.030000e+03  \n",
       "mean    312.752205      6.013329   1999.380939  2.501234e+07  7.645232e+07  \n",
       "std     693.268737      0.876545     13.469048  3.953679e+07  1.730569e+08  \n",
       "min      10.000000      1.500000   1960.000000  0.000000e+00  0.000000e+00  \n",
       "25%      24.000000      5.500000   1992.000000  0.000000e+00  0.000000e+00  \n",
       "50%      73.000000      6.100000   2003.000000  6.951084e+06  6.457481e+06  \n",
       "75%     263.000000      6.600000   2010.000000  3.463336e+07  7.528359e+07  \n",
       "max    9767.000000      8.400000   2015.000000  4.250000e+08  2.827124e+09  "
      ]
     },
     "execution_count": 13,
     "metadata": {},
     "output_type": "execute_result"
    }
   ],
   "source": [
    "df_mov_v3.describe()"
   ]
  },
  {
   "cell_type": "markdown",
   "metadata": {},
   "source": [
    "Reight before starting our exploratory step, we do a quick look on the statics of the data, we notice that some of the runtime values does not make sense at all. These values are the one that have runtime= 0. \n",
    "So we shall be dropping these entries as well "
   ]
  },
  {
   "cell_type": "code",
   "execution_count": 14,
   "metadata": {},
   "outputs": [
    {
     "data": {
      "text/plain": [
       "Int64Index([334, 1289, 1293], dtype='int64')"
      ]
     },
     "execution_count": 14,
     "metadata": {},
     "output_type": "execute_result"
    }
   ],
   "source": [
    "df_rt0= df_mov_v3.query(\"runtime== 0\")\n",
    "df_rt0.index"
   ]
  },
  {
   "cell_type": "code",
   "execution_count": 15,
   "metadata": {},
   "outputs": [
    {
     "name": "stderr",
     "output_type": "stream",
     "text": [
      "/opt/conda/lib/python3.6/site-packages/pandas/core/frame.py:3697: SettingWithCopyWarning: \n",
      "A value is trying to be set on a copy of a slice from a DataFrame\n",
      "\n",
      "See the caveats in the documentation: http://pandas.pydata.org/pandas-docs/stable/indexing.html#indexing-view-versus-copy\n",
      "  errors=errors)\n"
     ]
    }
   ],
   "source": [
    "df_mov_v3.drop(index= [334, 1289, 1293], inplace= True)\n"
   ]
  },
  {
   "cell_type": "markdown",
   "metadata": {},
   "source": [
    "Now, we have cleaned our data by dropping all the duplicates, null values from our data frame, in addiotion to some entries that did not make sense such as entries that have runtime= 0. Our data now is clean and ready to explor and answer the question we have posed in the introduction of this notebook. "
   ]
  },
  {
   "cell_type": "code",
   "execution_count": 16,
   "metadata": {},
   "outputs": [
    {
     "data": {
      "text/plain": [
       "(7027, 20)"
      ]
     },
     "execution_count": 16,
     "metadata": {},
     "output_type": "execute_result"
    }
   ],
   "source": [
    "df_mov_v3.shape"
   ]
  },
  {
   "cell_type": "markdown",
   "metadata": {},
   "source": [
    "<a id='eda'></a>\n",
    "## Exploratory Data Analysis\n",
    "\n",
    "Now that we have cleaned our data, let's answer the questions that we have posed at the beginning of our notebook.\n",
    "### Is there a correlation between a movie popularity and its budget?"
   ]
  },
  {
   "cell_type": "markdown",
   "metadata": {},
   "source": [
    "In order to answer this question, we start by making a scatter plot between the budget of each movie and its popularity score. The budget will be on the x-axis since it is our independant value, while the popularity will be on the y-axis since it is the dependant score."
   ]
  },
  {
   "cell_type": "code",
   "execution_count": 17,
   "metadata": {},
   "outputs": [
    {
     "data": {
      "image/png": "[encoded data removed]",
      "text/plain": [
       "<matplotlib.figure.Figure at 0x7f5957bc3860>"
      ]
     },
     "metadata": {
      "needs_background": "light"
     },
     "output_type": "display_data"
    }
   ],
   "source": [
    "# Use this, and more code cells, to explore your data. Don't forget to add\n",
    "#   Markdown cells to document your observations and findings.\n",
    "df_mov_v3.plot(x= 'budget', y= 'popularity', kind= \"scatter\", figsize= (8, 8));\n",
    "plt.title(\"Scatter plot showing budget aganist a movie popularity\");"
   ]
  },
  {
   "cell_type": "markdown",
   "metadata": {},
   "source": [
    "From the plot above, we notice a trend among some of the movies that the more a budget movie is, the more its popularity score. But this is not consistant across the majority of the data set since through different budgets moveisachieve different levels of popularity. So we can safely the correlation between a movie popularity and its budget is week."
   ]
  },
  {
   "cell_type": "code",
   "execution_count": 18,
   "metadata": {},
   "outputs": [
    {
     "data": {
      "text/plain": [
       "Index(['id', 'imdb_id', 'popularity', 'budget', 'revenue', 'original_title',\n",
       "       'cast', 'director', 'tagline', 'keywords', 'overview', 'runtime',\n",
       "       'genres', 'production_companies', 'release_date', 'vote_count',\n",
       "       'vote_average', 'release_year', 'budget_adj', 'revenue_adj'],\n",
       "      dtype='object')"
      ]
     },
     "execution_count": 18,
     "metadata": {},
     "output_type": "execute_result"
    }
   ],
   "source": [
    "df_mov_v3.shape\n",
    "df_mov_v3.columns"
   ]
  },
  {
   "cell_type": "markdown",
   "metadata": {},
   "source": [
    "### What kinds of properties are associated with movies that have high revenues?"
   ]
  },
  {
   "cell_type": "markdown",
   "metadata": {},
   "source": [
    "In order to answer this question, first we define a movie with high revenue is a movie that has revenue_adj above the revenue_adj mean. \n",
    "\n",
    "Note: I have used revenue_adj instead of revenue since this gives our analysis a more realistic look to the current scene in the movie industry. Also, it provides a normalization and avoid the issue of inflation.\n",
    "Then we look through the comparison of the revenue_adj with different aspects of our data set: geners, vote_average, budget_adj. "
   ]
  },
  {
   "cell_type": "code",
   "execution_count": 19,
   "metadata": {},
   "outputs": [
    {
     "data": {
      "image/png": "[encoded data removed]",
      "text/plain": [
       "<matplotlib.figure.Figure at 0x7f592a7b4a90>"
      ]
     },
     "metadata": {
      "needs_background": "light"
     },
     "output_type": "display_data"
    }
   ],
   "source": [
    "#Start to find movies with revenus higher than the mean\n",
    "df_mov_HR= df_mov_v3.query(\"revenue_adj > revenue_adj.mean()\")\n",
    "df_mov_LR= df_mov_v3.query(\"revenue_adj <= revenue_adj.mean()\")\n",
    "df_mov_HR.plot(x= \"budget_adj\", y= \"revenue_adj\", kind= \"scatter\", figsize=(8,8));\n",
    "plt.title(\"Representation of adjusted Revenus and budgets of movies\");\n"
   ]
  },
  {
   "cell_type": "markdown",
   "metadata": {},
   "source": [
    "Based on the previous plot, it is hard to say a higher move budget yields a higher movie in revenus."
   ]
  },
  {
   "cell_type": "code",
   "execution_count": 20,
   "metadata": {},
   "outputs": [
    {
     "data": {
      "image/png": "[encoded data removed]",
      "text/plain": [
       "<matplotlib.figure.Figure at 0x7f5929e7d128>"
      ]
     },
     "metadata": {
      "needs_background": "light"
     },
     "output_type": "display_data"
    }
   ],
   "source": [
    "df_mov_HR.plot(x= \"vote_average\", y= \"revenue_adj\", kind= \"scatter\", figsize=(8,8));\n",
    "plt.title(\"Representation of adjusted Revenus and vote_average of movies\");"
   ]
  },
  {
   "cell_type": "markdown",
   "metadata": {},
   "source": [
    "From the previous plot we can say that a movie with a higher vote_average get higher revenus."
   ]
  },
  {
   "cell_type": "markdown",
   "metadata": {},
   "source": [
    "Let's take a look and see if the generes have any attributes to the movie revenues. By a quick check we find that for the highest paid movies, there are over 600 uniqe genere combinations. Most of these genere combinations are unique (i.e. occurs only once) in our data set. In order to have some insights in what were the generes for the movies with the highest revenu, we will take a look on the most occured generes."
   ]
  },
  {
   "cell_type": "code",
   "execution_count": 21,
   "metadata": {},
   "outputs": [
    {
     "name": "stdout",
     "output_type": "stream",
     "text": [
      "# of uniqure generes is:  666\n",
      "Comedy                                            111\n",
      "Drama                                              75\n",
      "Comedy|Romance                                     50\n",
      "Drama|Romance                                      30\n",
      "Comedy|Drama|Romance                               28\n",
      "Comedy|Drama                                       25\n",
      "Horror|Thriller                                    23\n",
      "Action|Thriller                                    22\n",
      "Horror                                             19\n",
      "Adventure|Action|Thriller                          19\n",
      "Action|Crime|Thriller                              18\n",
      "Comedy|Family                                      17\n",
      "Animation|Comedy|Family                            16\n",
      "Animation|Family                                   15\n",
      "Action|Comedy|Crime                                14\n",
      "Action|Adventure|Thriller                          14\n",
      "Comedy|Crime                                       12\n",
      "Crime|Drama|Thriller                               12\n",
      "Crime|Drama                                        12\n",
      "Adventure|Fantasy|Action                           12\n",
      "Action|Adventure|Comedy                            12\n",
      "Action|Comedy                                      12\n",
      "Adventure|Action|Thriller|Science Fiction          11\n",
      "Adventure|Action|Science Fiction                   11\n",
      "Drama|Crime                                        11\n",
      "Action|Thriller|Crime                              11\n",
      "Horror|Mystery                                     10\n",
      "Action|Crime|Drama|Thriller                        10\n",
      "Adventure|Fantasy|Family                           10\n",
      "Action|Adventure|Science Fiction                   10\n",
      "                                                 ... \n",
      "Action|War                                          1\n",
      "Fantasy|Drama                                       1\n",
      "Action|Comedy|Family|Adventure                      1\n",
      "Adventure|Documentary                               1\n",
      "Adventure|Action|Thriller|Crime                     1\n",
      "Adventure|Action|Comedy|Science Fiction|Family      1\n",
      "Horror|Thriller|Science Fiction|Mystery             1\n",
      "Action|Fantasy|Horror|Mystery                       1\n",
      "Crime|Thriller|Action                               1\n",
      "Fantasy|Drama|Thriller|Romance                      1\n",
      "Action|Adventure|Drama|Horror|Science Fiction       1\n",
      "Action|Science Fiction|Adventure|Comedy|Family      1\n",
      "Action|Adventure|Drama|War                          1\n",
      "Animation|Action|Comedy|Family                      1\n",
      "Action|Adventure|Drama|Thriller|War                 1\n",
      "Drama|Adventure                                     1\n",
      "Adventure|Thriller                                  1\n",
      "Thriller|Drama|Romance                              1\n",
      "Adventure|Fantasy|Animation|Family                  1\n",
      "Crime|Drama|Horror|Thriller                         1\n",
      "Romance                                             1\n",
      "Romance|Comedy|Family|Fantasy                       1\n",
      "Adventure|Fantasy|Family|Mystery                    1\n",
      "History|Drama|Thriller|War                          1\n",
      "Action|Thriller|Science Fiction|Mystery             1\n",
      "Fantasy|Comedy|Drama                                1\n",
      "Adventure|Action|Thriller|Crime|Mystery             1\n",
      "Action|Adventure|History|Romance|Drama              1\n",
      "Adventure|Comedy|Drama|Fantasy                      1\n",
      "History                                             1\n",
      "Name: genres, Length: 666, dtype: int64\n"
     ]
    }
   ],
   "source": [
    "print(\"# of uniqure generes is: \", df_mov_HR.genres.nunique()) #Totoal number of unique generes we have for movies with the highest revenus\n",
    "print(df_mov_HR.genres.value_counts()) #what is the count for each genere"
   ]
  },
  {
   "cell_type": "markdown",
   "metadata": {},
   "source": [
    "From the above analysis we notice that most of the movies that had high revenus has something to do with comdey, let's have the top 5 highest generes."
   ]
  },
  {
   "cell_type": "code",
   "execution_count": 22,
   "metadata": {},
   "outputs": [
    {
     "data": {
      "text/plain": [
       "(294, 20)"
      ]
     },
     "execution_count": 22,
     "metadata": {},
     "output_type": "execute_result"
    }
   ],
   "source": [
    "#Querying to find the data for the highest uniqe generes\n",
    "df_c= df_mov_HR.query('genres==\"Comedy\"');\n",
    "df_d= df_mov_HR.query('genres==\"Drama\"');\n",
    "df_cr= df_mov_HR.query('genres==\"Comedy|Romance\"');\n",
    "df_dr= df_mov_HR.query('genres==\"Drama|Romance\"');\n",
    "df_cdr= df_mov_HR.query('genres==\"Comedy|Drama|Romance\"');\n",
    "df= df_c.append([df_d, df_cr, df_dr, df_cdr])\n",
    "df.shape"
   ]
  },
  {
   "cell_type": "markdown",
   "metadata": {},
   "source": [
    "Let's make a pie chart showing what were the most common 5 generes amongst the movies with the most revenus"
   ]
  },
  {
   "cell_type": "code",
   "execution_count": 23,
   "metadata": {},
   "outputs": [
    {
     "data": {
      "image/png": "[encoded data removed]",
      "text/plain": [
       "<matplotlib.figure.Figure at 0x7f5929df7d68>"
      ]
     },
     "metadata": {},
     "output_type": "display_data"
    }
   ],
   "source": [
    "df[\"genres\"].value_counts().plot(kind= \"pie\");"
   ]
  },
  {
   "cell_type": "markdown",
   "metadata": {},
   "source": [
    "From this we notice that comdey movies have had over a very significant portion of higest movies in revenus. "
   ]
  },
  {
   "cell_type": "code",
   "execution_count": 24,
   "metadata": {},
   "outputs": [
    {
     "data": {
      "text/html": [
       "<div>\n",
       "<style scoped>\n",
       "    .dataframe tbody tr th:only-of-type {\n",
       "        vertical-align: middle;\n",
       "    }\n",
       "\n",
       "    .dataframe tbody tr th {\n",
       "        vertical-align: top;\n",
       "    }\n",
       "\n",
       "    .dataframe thead th {\n",
       "        text-align: right;\n",
       "    }\n",
       "</style>\n",
       "<table border=\"1\" class=\"dataframe\">\n",
       "  <thead>\n",
       "    <tr style=\"text-align: right;\">\n",
       "      <th></th>\n",
       "      <th>id</th>\n",
       "      <th>popularity</th>\n",
       "      <th>budget</th>\n",
       "      <th>revenue</th>\n",
       "      <th>runtime</th>\n",
       "      <th>vote_count</th>\n",
       "      <th>vote_average</th>\n",
       "      <th>release_year</th>\n",
       "      <th>budget_adj</th>\n",
       "      <th>revenue_adj</th>\n",
       "    </tr>\n",
       "  </thead>\n",
       "  <tbody>\n",
       "    <tr>\n",
       "      <th>count</th>\n",
       "      <td>1738.000000</td>\n",
       "      <td>1738.000000</td>\n",
       "      <td>1.738000e+03</td>\n",
       "      <td>1.738000e+03</td>\n",
       "      <td>1738.000000</td>\n",
       "      <td>1738.000000</td>\n",
       "      <td>1738.000000</td>\n",
       "      <td>1738.000000</td>\n",
       "      <td>1.738000e+03</td>\n",
       "      <td>1.738000e+03</td>\n",
       "    </tr>\n",
       "    <tr>\n",
       "      <th>mean</th>\n",
       "      <td>31140.125432</td>\n",
       "      <td>1.761672</td>\n",
       "      <td>5.595313e+07</td>\n",
       "      <td>2.114306e+08</td>\n",
       "      <td>114.308976</td>\n",
       "      <td>916.281358</td>\n",
       "      <td>6.364730</td>\n",
       "      <td>1999.401036</td>\n",
       "      <td>6.582979e+07</td>\n",
       "      <td>2.729068e+08</td>\n",
       "    </tr>\n",
       "    <tr>\n",
       "      <th>std</th>\n",
       "      <td>59004.241010</td>\n",
       "      <td>1.927112</td>\n",
       "      <td>5.188863e+07</td>\n",
       "      <td>2.195688e+08</td>\n",
       "      <td>25.273918</td>\n",
       "      <td>1143.850247</td>\n",
       "      <td>0.721257</td>\n",
       "      <td>12.395922</td>\n",
       "      <td>5.271703e+07</td>\n",
       "      <td>2.620512e+08</td>\n",
       "    </tr>\n",
       "    <tr>\n",
       "      <th>min</th>\n",
       "      <td>11.000000</td>\n",
       "      <td>0.017498</td>\n",
       "      <td>0.000000e+00</td>\n",
       "      <td>1.087811e+07</td>\n",
       "      <td>44.000000</td>\n",
       "      <td>10.000000</td>\n",
       "      <td>3.700000</td>\n",
       "      <td>1960.000000</td>\n",
       "      <td>0.000000e+00</td>\n",
       "      <td>7.663473e+07</td>\n",
       "    </tr>\n",
       "    <tr>\n",
       "      <th>25%</th>\n",
       "      <td>1913.500000</td>\n",
       "      <td>0.782539</td>\n",
       "      <td>1.800000e+07</td>\n",
       "      <td>8.787680e+07</td>\n",
       "      <td>99.000000</td>\n",
       "      <td>214.250000</td>\n",
       "      <td>5.900000</td>\n",
       "      <td>1992.000000</td>\n",
       "      <td>2.717494e+07</td>\n",
       "      <td>1.146385e+08</td>\n",
       "    </tr>\n",
       "    <tr>\n",
       "      <th>50%</th>\n",
       "      <td>9646.000000</td>\n",
       "      <td>1.246508</td>\n",
       "      <td>4.000000e+07</td>\n",
       "      <td>1.395785e+08</td>\n",
       "      <td>111.000000</td>\n",
       "      <td>501.000000</td>\n",
       "      <td>6.400000</td>\n",
       "      <td>2002.000000</td>\n",
       "      <td>5.271723e+07</td>\n",
       "      <td>1.812040e+08</td>\n",
       "    </tr>\n",
       "    <tr>\n",
       "      <th>75%</th>\n",
       "      <td>20872.750000</td>\n",
       "      <td>2.066203</td>\n",
       "      <td>8.000000e+07</td>\n",
       "      <td>2.461060e+08</td>\n",
       "      <td>125.000000</td>\n",
       "      <td>1133.750000</td>\n",
       "      <td>6.900000</td>\n",
       "      <td>2009.000000</td>\n",
       "      <td>9.245751e+07</td>\n",
       "      <td>3.246124e+08</td>\n",
       "    </tr>\n",
       "    <tr>\n",
       "      <th>max</th>\n",
       "      <td>417859.000000</td>\n",
       "      <td>32.985763</td>\n",
       "      <td>3.800000e+08</td>\n",
       "      <td>2.781506e+09</td>\n",
       "      <td>705.000000</td>\n",
       "      <td>9767.000000</td>\n",
       "      <td>8.300000</td>\n",
       "      <td>2015.000000</td>\n",
       "      <td>3.683713e+08</td>\n",
       "      <td>2.827124e+09</td>\n",
       "    </tr>\n",
       "  </tbody>\n",
       "</table>\n",
       "</div>"
      ],
      "text/plain": [
       "                  id   popularity        budget       revenue      runtime  \\\n",
       "count    1738.000000  1738.000000  1.738000e+03  1.738000e+03  1738.000000   \n",
       "mean    31140.125432     1.761672  5.595313e+07  2.114306e+08   114.308976   \n",
       "std     59004.241010     1.927112  5.188863e+07  2.195688e+08    25.273918   \n",
       "min        11.000000     0.017498  0.000000e+00  1.087811e+07    44.000000   \n",
       "25%      1913.500000     0.782539  1.800000e+07  8.787680e+07    99.000000   \n",
       "50%      9646.000000     1.246508  4.000000e+07  1.395785e+08   111.000000   \n",
       "75%     20872.750000     2.066203  8.000000e+07  2.461060e+08   125.000000   \n",
       "max    417859.000000    32.985763  3.800000e+08  2.781506e+09   705.000000   \n",
       "\n",
       "        vote_count  vote_average  release_year    budget_adj   revenue_adj  \n",
       "count  1738.000000   1738.000000   1738.000000  1.738000e+03  1.738000e+03  \n",
       "mean    916.281358      6.364730   1999.401036  6.582979e+07  2.729068e+08  \n",
       "std    1143.850247      0.721257     12.395922  5.271703e+07  2.620512e+08  \n",
       "min      10.000000      3.700000   1960.000000  0.000000e+00  7.663473e+07  \n",
       "25%     214.250000      5.900000   1992.000000  2.717494e+07  1.146385e+08  \n",
       "50%     501.000000      6.400000   2002.000000  5.271723e+07  1.812040e+08  \n",
       "75%    1133.750000      6.900000   2009.000000  9.245751e+07  3.246124e+08  \n",
       "max    9767.000000      8.300000   2015.000000  3.683713e+08  2.827124e+09  "
      ]
     },
     "execution_count": 24,
     "metadata": {},
     "output_type": "execute_result"
    }
   ],
   "source": [
    "#summary of statistics for the movies with the highest revenus\n",
    "df_mov_HR.describe()"
   ]
  },
  {
   "cell_type": "markdown",
   "metadata": {},
   "source": [
    "<a id='conclusions'></a>\n",
    "## Conclusions\n",
    "So in our analysis we have focsed on exploring the answers for two questions, and based on our analysis we can say that a movie\n",
    "sucess when it comes to revenus has a week correlation to its budget.\n",
    "\n",
    "When looking through some of the properties that focues on what propoerties the highest movies in revens has in commen, we notice that the majority of these movies has the element of comdey in their geners. Even when we look through the top five generes we find that 3 of the top 5 generes have a comdy element in them.\n",
    "\n",
    "## Submitting your Project \n",
    "\n",
    "> Before you submit your project, you need to create a .html or .pdf version of this notebook in the workspace here. To do that, run the code cell below. If it worked correctly, you should get a return code of 0, and you should see the generated .html file in the workspace directory (click on the orange Jupyter icon in the upper left).\n",
    "\n",
    "> Alternatively, you can download this report as .html via the **File** > **Download as** submenu, and then manually upload it into the workspace directory by clicking on the orange Jupyter icon in the upper left, then using the Upload button.\n",
    "\n",
    "> Once you've done this, you can submit your project by clicking on the \"Submit Project\" button in the lower right here. This will create and submit a zip file with this .ipynb doc and the .html or .pdf version you created. Congratulations!"
   ]
  },
  {
   "cell_type": "code",
   "execution_count": 25,
   "metadata": {},
   "outputs": [
    {
     "data": {
      "text/plain": [
       "0"
      ]
     },
     "execution_count": 25,
     "metadata": {},
     "output_type": "execute_result"
    }
   ],
   "source": [
    "from subprocess import call\n",
    "call(['python', '-m', 'nbconvert', 'Investigate_a_Dataset.ipynb'])"
   ]
  }
 ],
 "metadata": {
  "kernelspec": {
   "display_name": "Python 3",
   "language": "python",
   "name": "python3"
  },
  "language_info": {
   "codemirror_mode": {
    "name": "ipython",
    "version": 3
   },
   "file_extension": ".py",
   "mimetype": "text/x-python",
   "name": "python",
   "nbconvert_exporter": "python",
   "pygments_lexer": "ipython3",
   "version": "3.6.3"
  }
 },
 "nbformat": 4,
 "nbformat_minor": 2
}
